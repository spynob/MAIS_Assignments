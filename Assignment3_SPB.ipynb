{
  "nbformat": 4,
  "nbformat_minor": 0,
  "metadata": {
    "colab": {
      "provenance": [],
      "collapsed_sections": [
        "EePjeHX2auOl",
        "ucmYNPwjar8g",
        "SBUEyUvEbMDv"
      ],
      "include_colab_link": true
    },
    "kernelspec": {
      "name": "python3",
      "display_name": "Python 3"
    }
  },
  "cells": [
    {
      "cell_type": "markdown",
      "metadata": {
        "id": "view-in-github",
        "colab_type": "text"
      },
      "source": [
        "<a href=\"https://colab.research.google.com/github/spynob/MAIS_Assignments/blob/main/Assignment3_SPB.ipynb\" target=\"_parent\"><img src=\"https://colab.research.google.com/assets/colab-badge.svg\" alt=\"Open In Colab\"/></a>"
      ]
    },
    {
      "cell_type": "markdown",
      "metadata": {
        "id": "KZ36d7XueqKt"
      },
      "source": [
        "# Assignment 3 - PCA and "
      ]
    },
    {
      "cell_type": "markdown",
      "metadata": {
        "id": "pL9gT-DTWRtF"
      },
      "source": [
        "##Part 1 - PCA: Face Recognition using Eigenfaces\n",
        "\n",
        "In this part we will implement and apply PCA to a dataset of celebrity faces, before finally building a very simple face classifier. To do this, we are going to: preprocess our images, implement PCA, and finally visualize the results of applying it to our dataset.\n",
        "\n",
        "Complete the sections of the assignment prefixed with **\"TODO\"**:\n",
        "\n",
        "* [2. PCA](#scrollTo=EHMIljnpdaBE)\n",
        "* [3.1 Eigenfaces](#scrollTo=A_JqQwEmu7ef)\n",
        "* [3.2 Eigenfaces](#scrollTo=YTdZF-O6daaK)\n",
        "* [4.2 Face Classification](#scrollTo=IDhubLwVh2Vr)\n"
      ]
    },
    {
      "cell_type": "markdown",
      "metadata": {
        "id": "EePjeHX2auOl"
      },
      "source": [
        "### 1) Preparing the Dataset\n",
        "\n",
        "First, we need to download the dataset and preprocess the data. To accomplish this, we will load the images into a (N, H, W) NumPy matrix (where N is the number of images, and H, W are the image dimensions). Furthermore, we will also need to center crop the images to remove the background and only keep the face. In addition, it is also recommended to make sure that the images in our dataset are aligned (e.g. eyes, nose, etc.); fortunately, the dataset we will be using has this already done!\n",
        "\n",
        "**Bonus:** If you have a few pictures of your friends, you can also add them to the dataset! Later on, we will be building a face recognition system which you can use on your own photos.\n",
        "\n",
        "\n"
      ]
    },
    {
      "cell_type": "markdown",
      "metadata": {
        "id": "iCLTIiwPt7Sv"
      },
      "source": [
        "#### 1.1) First, download the dataset and extract the images"
      ]
    },
    {
      "cell_type": "code",
      "metadata": {
        "id": "G9LisbANdZsZ",
        "outputId": "afd3cc37-9f58-46e7-df95-39ed35e99e7e",
        "colab": {
          "base_uri": "https://localhost:8080/"
        }
      },
      "source": [
        "# Download the dataset (subset of CelebA).\n",
        "!wget -O a3_face_dataset.tar.gz https://www.dropbox.com/s/4nmsiafyvw0o5fx/a3_face_dataset.tar.gz?dl=0"
      ],
      "execution_count": null,
      "outputs": [
        {
          "output_type": "stream",
          "name": "stdout",
          "text": [
            "--2023-03-07 14:18:09--  https://www.dropbox.com/s/4nmsiafyvw0o5fx/a3_face_dataset.tar.gz?dl=0\n",
            "Resolving www.dropbox.com (www.dropbox.com)... 162.125.5.18, 2620:100:601b:18::a27d:812\n",
            "Connecting to www.dropbox.com (www.dropbox.com)|162.125.5.18|:443... connected.\n",
            "HTTP request sent, awaiting response... 302 Found\n",
            "Location: /s/raw/4nmsiafyvw0o5fx/a3_face_dataset.tar.gz [following]\n",
            "--2023-03-07 14:18:09--  https://www.dropbox.com/s/raw/4nmsiafyvw0o5fx/a3_face_dataset.tar.gz\n",
            "Reusing existing connection to www.dropbox.com:443.\n",
            "HTTP request sent, awaiting response... 302 Found\n",
            "Location: https://uc123926c2eb2933cf6d57c44fc7.dl.dropboxusercontent.com/cd/0/inline/B3zpHClES_xhevvs4MMN_e8XLzHvDHaJP4wO3VvPYCAkI7LAz6FTuNwykC9DkEVdibFAtOh9ypOhb0FcXCP6iw4pxQV3Lcbbv8pPjIF-ZJ6eC_KlANlovP0LUZ9BbQ-coJHIiaASYqocQ3zKM6_1q88A7tNaCwv5NgB70KMXzFoQXA/file# [following]\n",
            "--2023-03-07 14:18:14--  https://uc123926c2eb2933cf6d57c44fc7.dl.dropboxusercontent.com/cd/0/inline/B3zpHClES_xhevvs4MMN_e8XLzHvDHaJP4wO3VvPYCAkI7LAz6FTuNwykC9DkEVdibFAtOh9ypOhb0FcXCP6iw4pxQV3Lcbbv8pPjIF-ZJ6eC_KlANlovP0LUZ9BbQ-coJHIiaASYqocQ3zKM6_1q88A7tNaCwv5NgB70KMXzFoQXA/file\n",
            "Resolving uc123926c2eb2933cf6d57c44fc7.dl.dropboxusercontent.com (uc123926c2eb2933cf6d57c44fc7.dl.dropboxusercontent.com)... 162.125.5.15, 2620:100:601d:15::a27d:50f\n",
            "Connecting to uc123926c2eb2933cf6d57c44fc7.dl.dropboxusercontent.com (uc123926c2eb2933cf6d57c44fc7.dl.dropboxusercontent.com)|162.125.5.15|:443... connected.\n",
            "HTTP request sent, awaiting response... 302 Found\n",
            "Location: /cd/0/inline2/B3wRix_X5oBZ5wdvPfbb1RZq07CsHVWTeiCZKKzfndA4B2icd6DKK1g288BuhFQ8jVm1eWL5zdbWWDcHzAufdGXT1hWLbUYc-tLZ4aLD7TNgSH6msXja7REf6IOCTN4RMyRuFbNpclLKRNw07COwBbU72R2E7UJ7no6__Wuw6pSBA0_BEeHgZ328NbMEalg3sULumKAjfEt5ujrjHJ04a2NK-Y3fE70Gj49Dnsmu-BlLJJW0MKa9ndDiTTP00D0HLyKCUSZ2SusVZdvB_7MGdqCqSLPuxD4aL5yYHI-JZFI9oCccLxj1Z8iYrqR_l_nUpS0OUsoZ_MvcS0p9B_XNwZzqcVMvsJ-zmIlfrEuamBTaHKkqAgkBBAWu2pK2UyFdbA1fOCuChMeTjepyl2TZRM9ZS2LLxYE5wWtShN_Ushnh-w/file [following]\n",
            "--2023-03-07 14:18:14--  https://uc123926c2eb2933cf6d57c44fc7.dl.dropboxusercontent.com/cd/0/inline2/B3wRix_X5oBZ5wdvPfbb1RZq07CsHVWTeiCZKKzfndA4B2icd6DKK1g288BuhFQ8jVm1eWL5zdbWWDcHzAufdGXT1hWLbUYc-tLZ4aLD7TNgSH6msXja7REf6IOCTN4RMyRuFbNpclLKRNw07COwBbU72R2E7UJ7no6__Wuw6pSBA0_BEeHgZ328NbMEalg3sULumKAjfEt5ujrjHJ04a2NK-Y3fE70Gj49Dnsmu-BlLJJW0MKa9ndDiTTP00D0HLyKCUSZ2SusVZdvB_7MGdqCqSLPuxD4aL5yYHI-JZFI9oCccLxj1Z8iYrqR_l_nUpS0OUsoZ_MvcS0p9B_XNwZzqcVMvsJ-zmIlfrEuamBTaHKkqAgkBBAWu2pK2UyFdbA1fOCuChMeTjepyl2TZRM9ZS2LLxYE5wWtShN_Ushnh-w/file\n",
            "Reusing existing connection to uc123926c2eb2933cf6d57c44fc7.dl.dropboxusercontent.com:443.\n",
            "HTTP request sent, awaiting response... 200 OK\n",
            "Length: 3177789 (3.0M) [application/octet-stream]\n",
            "Saving to: ‘a3_face_dataset.tar.gz’\n",
            "\n",
            "a3_face_dataset.tar 100%[===================>]   3.03M  --.-KB/s    in 0.1s    \n",
            "\n",
            "2023-03-07 14:18:15 (21.1 MB/s) - ‘a3_face_dataset.tar.gz’ saved [3177789/3177789]\n",
            "\n"
          ]
        }
      ]
    },
    {
      "cell_type": "code",
      "metadata": {
        "id": "0A5_SN0RzaFJ",
        "outputId": "0139da2d-3772-4070-d060-6e832bea6b4b",
        "colab": {
          "base_uri": "https://localhost:8080/"
        }
      },
      "source": [
        "# Extract the contents of the compressed file.\n",
        "!tar xzf a3_face_dataset.tar.gz\n",
        "!ls"
      ],
      "execution_count": null,
      "outputs": [
        {
          "output_type": "stream",
          "name": "stdout",
          "text": [
            "a3_face_dataset  a3_face_dataset.tar.gz  sample_data\n"
          ]
        }
      ]
    },
    {
      "cell_type": "markdown",
      "metadata": {
        "id": "dxpgRKcp1eeq"
      },
      "source": [
        "#### 1.2) Preview a few images from the dataset\n"
      ]
    },
    {
      "cell_type": "code",
      "metadata": {
        "id": "fC90Mo6g1XCh",
        "outputId": "859404d1-b2ba-4f15-852c-a3f064dcb630",
        "colab": {
          "base_uri": "https://localhost:8080/",
          "height": 1000
        }
      },
      "source": [
        "import glob\n",
        "import matplotlib.pyplot as plt\n",
        "from IPython.display import display, Image\n",
        "\n",
        "# Display the first images from the dataset. You can also browse these by\n",
        "# navigating through the notebook's file system!\n",
        "sample_images = glob.glob('a3_face_dataset/*.jpg')[:5]\n",
        "for file_path in sample_images:\n",
        "  display(Image(file_path))"
      ],
      "execution_count": null,
      "outputs": [
        {
          "output_type": "display_data",
          "data": {
            "image/jpeg": "[encoded data removed]",
            "text/plain": [
              "<IPython.core.display.Image object>"
            ]
          },
          "metadata": {}
        },
        {
          "output_type": "display_data",
          "data": {
            "image/jpeg": "[encoded data removed]",
            "text/plain": [
              "<IPython.core.display.Image object>"
            ]
          },
          "metadata": {}
        },
        {
          "output_type": "display_data",
          "data": {
            "image/jpeg": "[encoded data removed]",
            "text/plain": [
              "<IPython.core.display.Image object>"
            ]
          },
          "metadata": {}
        },
        {
          "output_type": "display_data",
          "data": {
            "image/jpeg": "[encoded data removed]",
            "text/plain": [
              "<IPython.core.display.Image object>"
            ]
          },
          "metadata": {}
        },
        {
          "output_type": "display_data",
          "data": {
            "image/jpeg": "[encoded data removed]",
            "text/plain": [
              "<IPython.core.display.Image object>"
            ]
          },
          "metadata": {}
        }
      ]
    },
    {
      "cell_type": "markdown",
      "metadata": {
        "id": "fm2vV8_x2DpT"
      },
      "source": [
        "#### 1.3) Load the dataset and convert into a NumPy matrix"
      ]
    },
    {
      "cell_type": "code",
      "metadata": {
        "id": "MoKEK-vz2Lj5",
        "outputId": "8b606023-89c3-4c28-fb47-19b297aa8664",
        "colab": {
          "base_uri": "https://localhost:8080/"
        }
      },
      "source": [
        "import cv2\n",
        "import numpy as np\n",
        "\n",
        "# Load images in greyscale.\n",
        "image_paths = list(glob.glob('a3_face_dataset/*.jpg'))\n",
        "images = np.stack([cv2.imread(str(x), cv2.IMREAD_GRAYSCALE) \n",
        "                   for x in image_paths])\n",
        "print('Original Image Shape (N, H, W):', images.shape)"
      ],
      "execution_count": null,
      "outputs": [
        {
          "output_type": "stream",
          "name": "stdout",
          "text": [
            "Original Image Shape (N, H, W): (500, 218, 178)\n"
          ]
        }
      ]
    },
    {
      "cell_type": "markdown",
      "metadata": {
        "id": "To8fveaOgbhg"
      },
      "source": [
        "####1.4) Center crop the images and visualize the results"
      ]
    },
    {
      "cell_type": "code",
      "metadata": {
        "id": "OhrsuF44fSa7",
        "outputId": "260ce07d-ee70-4c7a-88ee-7eb8bdf8596a",
        "colab": {
          "base_uri": "https://localhost:8080/",
          "height": 574
        }
      },
      "source": [
        "import PIL\n",
        "\n",
        "# Helper function for cropping the center of the image to remove the background\n",
        "# and only keep the face.\n",
        "def center_crop(img):\n",
        "    h, w = img.shape\n",
        "    center_y, center_x = h // 2, w // 2\n",
        "    offset_y, offset_x = center_y // 2, center_x // 2\n",
        "    return img[center_y - offset_y: center_y + offset_y,\n",
        "               center_x - offset_x: center_x + offset_x]\n",
        "  \n",
        "# Center crop our images.\n",
        "images = np.stack([center_crop(img) for img in images])\n",
        "img_height, img_width = images.shape[1:3]\n",
        "print('Cropped Image Shape (N, H, W):', images.shape)\n",
        "\n",
        "# Visualize a few results.\n",
        "for i in range(5):\n",
        "  display(PIL.Image.fromarray(images[i]))"
      ],
      "execution_count": null,
      "outputs": [
        {
          "output_type": "stream",
          "name": "stdout",
          "text": [
            "Cropped Image Shape (N, H, W): (500, 108, 88)\n"
          ]
        },
        {
          "output_type": "display_data",
          "data": {
            "text/plain": [
              "<PIL.Image.Image image mode=L size=88x108 at 0x7F44B5D28550>"
            ],
            "image/png": "[encoded data removed]"
          },
          "metadata": {}
        },
        {
          "output_type": "display_data",
          "data": {
            "text/plain": [
              "<PIL.Image.Image image mode=L size=88x108 at 0x7F44B5CC1160>"
            ],
            "image/png": "[encoded data removed]"
          },
          "metadata": {}
        },
        {
          "output_type": "display_data",
          "data": {
            "text/plain": [
              "<PIL.Image.Image image mode=L size=88x108 at 0x7F44B5CC1160>"
            ],
            "image/png": "[encoded data removed]"
          },
          "metadata": {}
        },
        {
          "output_type": "display_data",
          "data": {
            "text/plain": [
              "<PIL.Image.Image image mode=L size=88x108 at 0x7F44B5CC1160>"
            ],
            "image/png": "[encoded data removed]"
          },
          "metadata": {}
        },
        {
          "output_type": "display_data",
          "data": {
            "text/plain": [
              "<PIL.Image.Image image mode=L size=88x108 at 0x7F44B5CC1160>"
            ],
            "image/png": "[encoded data removed]"
          },
          "metadata": {}
        }
      ]
    },
    {
      "cell_type": "markdown",
      "metadata": {
        "id": "2js_kgc_g8Ku"
      },
      "source": [
        "####1.5) Lastly, flatten each image into a single vector"
      ]
    },
    {
      "cell_type": "code",
      "metadata": {
        "id": "UjedeHZIewgU",
        "outputId": "c01f4ea9-7657-4198-8a64-0698e0a7e655",
        "colab": {
          "base_uri": "https://localhost:8080/"
        }
      },
      "source": [
        "# Flatten the images into a (N, HxW) sized array, where N is the number of \n",
        "# images and H, W are the dimensions of the image.\n",
        "num_images = len(images)\n",
        "images = images.reshape(num_images, -1)\n",
        "print('Matrix Shape (N, H*W):', images.shape)"
      ],
      "execution_count": null,
      "outputs": [
        {
          "output_type": "stream",
          "name": "stdout",
          "text": [
            "Matrix Shape (N, H*W): (500, 9504)\n"
          ]
        }
      ]
    },
    {
      "cell_type": "markdown",
      "metadata": {
        "id": "rcHBs8uQa6rH"
      },
      "source": [
        "### 2) PCA Implementation\n",
        "\n",
        "**Note that there are several methods to solve for the eigenvectors of a matrix; for this assignment, you must use the eigenvectors of $A^TA$ to solve for those\n",
        "of $AA^T$. Please read the following 'Theory' section carefully for more details.** \n",
        "\n",
        "\n",
        "\n"
      ]
    },
    {
      "cell_type": "markdown",
      "metadata": {
        "id": "QPakSCDtfcrb"
      },
      "source": [
        "#### 2.1) Theory\n",
        "\n",
        "The simplest way to implement PCA is to compute the covariance\n",
        "matrix and solve for the eigenvalues and eigenvectors. For the derivation,\n",
        "we will use the notation that our input, $A$, is a matrix with a row for each pixel in the input image, and a column for each sample (i.e., $A = X^T$). In this case, that means $A$ should be a $9504$x$500$ dimensional matrix, where $n=500$. Lastly, we will also presume that $X$ is zero-centered and has a mean of zero.\n",
        "\n",
        "The covariance matrix is given by $\\mathrm{cov}(A) =  \\frac{1}{n}AA^T$, resulting in a $9504$x$9504$ matrix for which we need to solve the eigenvalues and eigenvectors. In reality, this approach is impractical as it is extremely time consuming to work with such large matrices (e.g. if we were to work with HD images, the number of elements in this matrix would be of the order of $10^{12}$).\n",
        "\n",
        "Instead, we will use a clever trick to work around this: if we can find a mapping between the eigenvectors of $\\mathrm{cov}(A^T)$ to those of $\\mathrm{cov}(A)$, then we only have to work with a $500$x$500$ matrix. This saves an immense amount of computation so long as the number of data samples is less than the number of pixels (which is almost always the case).\n",
        "\n",
        "**Your task will be to complete / make sense of the following derivation, and then use it to implement PCA.** As an aside, note that the constant term $n$ has been omitted for simplification.\n",
        "$$\n",
        "\\mathrm{cov}(A^T)v = \\lambda v \\\\\n",
        "A^TAv =  \\lambda v \\\\\n",
        "AA^TAv = A\\lambda v \\\\\n",
        "...\n",
        "$$\n",
        "____________________________________________________\n",
        "\n",
        "For further reading, please refer to the class notes and the following resources as a guideline for implementing PCA. Keep in mind that notation may vary between resources; make sure that your matrices are arranged in the correct order:\n",
        "* https://en.wikipedia.org/wiki/Eigenface  \n",
        "* https://en.wikipedia.org/wiki/Eigenface#Computing_the_eigenvectors  \n",
        "* http://www.vision.jhu.edu/teaching/vision08/Handouts/case_study_pca1.pdf  \n",
        "* http://www.face-rec.org/algorithms/pca/jcn.pdf\n"
      ]
    },
    {
      "cell_type": "markdown",
      "metadata": {
        "id": "Xdcvdh-ifmxL"
      },
      "source": [
        "#### 2.2) Implementation\n",
        "\n",
        "For this assignment we will be implementing PCA using only linear algebra libraries. As a guideline, we will loosely follow\n",
        "the interface of the scikit-learn version of PCA."
      ]
    },
    {
      "cell_type": "code",
      "metadata": {
        "id": "EHMIljnpdaBE"
      },
      "source": [
        "class PCA:\n",
        "    \"\"\"\n",
        "    Custom implementation of PCA with an interface similar to scikit-learn's version of PCA.\n",
        "    \"\"\"\n",
        "\n",
        "    def __init__(self, n_components):\n",
        "        self.n_components_ = n_components\n",
        "        self.mean_ = None\n",
        "        self.components_ = None\n",
        "        self.eigenvalues_ = None\n",
        "\n",
        "    # TODO\n",
        "    def fit(self, x):\n",
        "        x = x.astype(np.float32)\n",
        "\n",
        "        # Normalize X so that it has a mean of 0. You can accomplish this\n",
        "        # by computing the mean image vector and subtracting it from X.\n",
        "        # The mean should be assigned to the 'self.mean_' attribute.\n",
        "         \n",
        "\n",
        "        # Set-up your variables, A, and A^TA\n",
        "        # --> Your code here <--\n",
        "\n",
        "        # Sanity check.\n",
        "        assert A.shape == (9504, 500)\n",
        "        assert At_A.shape == (500, 500)\n",
        "\n",
        "        # Compute the eigenvectors using the method discussed above.\n",
        "        # --> Your code here <--\n",
        "\n",
        "        # Tranpose the dimensions of your eigenvectors to return to the\n",
        "        # notation where each eigenvector is it's own row.\n",
        "        eigenvectors = eigenvectors.T\n",
        "        assert eigenvectors.shape == (500, 9504)\n",
        "\n",
        "        # Ensure that each of the N eigenvectors are normalized to a magnitude of 1.\n",
        "        # --> Your code here <--\n",
        "\n",
        "        # Only retain the best N components (eigenvectors). These should be assigned\n",
        "        # to the 'self.components_' attribute.\n",
        "        # --> Your code here <--\n",
        "\n",
        "        # Keep all of the eigenvalues, but make sure to sort them. This is done so we can\n",
        "        # visualize the variance versus number of components kept later in the assignment.\n",
        "        # This should be assigned to the 'self.eigenvalues_' attribute.\n",
        "        # --> Your code here <--\n",
        "        assert self.eigenvalues_.shape == (500, )\n",
        "\n",
        "    def transform(self, x):\n",
        "      x = x.astype(np.float32)\n",
        "      result = None\n",
        "\n",
        "      # Project the input vector 'x' onto your PCA object's principal\n",
        "      # components and return the result. Make sure you subtract the mean face\n",
        "      # like in the fit(...) method.\n",
        "      # --> Your code here <--\n",
        "      return result\n",
        "\n",
        "    def fit_transform(self, x):\n",
        "        self.fit(x)\n",
        "        return self.transform(x)"
      ],
      "execution_count": null,
      "outputs": []
    },
    {
      "cell_type": "markdown",
      "metadata": {
        "id": "ucmYNPwjar8g"
      },
      "source": [
        "### 3) Computing Eigenfaces\n",
        "\n",
        "With the implementation of PCA complete, lets try running it on our dataset and visualizing some of the eigenfaces of the training set. To accomplish this, we first run PCA on the training matrix and then we take the eigenvectors and plot them as 2D images."
      ]
    },
    {
      "cell_type": "markdown",
      "metadata": {
        "id": "ObY2LbP4uq5f"
      },
      "source": [
        "####3.1) Perform PCA on our image matrix"
      ]
    },
    {
      "cell_type": "code",
      "metadata": {
        "id": "A_JqQwEmu7ef"
      },
      "source": [
        "# Settings\n",
        "num_components = 50\n",
        "\n",
        "# TODO: PCA. Create a PCA instance and fit it on the training data.\n",
        "# --> Your code here <--"
      ],
      "execution_count": null,
      "outputs": []
    },
    {
      "cell_type": "code",
      "metadata": {
        "id": "8CRzL0c_Qhx5"
      },
      "source": [
        "pca.components_.shape"
      ],
      "execution_count": null,
      "outputs": []
    },
    {
      "cell_type": "markdown",
      "metadata": {
        "id": "YqejdOr_uy2k"
      },
      "source": [
        "####3.2) Visualize the eigenfaces"
      ]
    },
    {
      "cell_type": "code",
      "metadata": {
        "id": "YTdZF-O6daaK"
      },
      "source": [
        "import os\n",
        "\n",
        "# Output directory.\n",
        "os.makedirs('./eigenfaces/', exist_ok=True)\n",
        "\n",
        "# Visualize the mean face.\n",
        "print('Saving mean face...', end='')\n",
        "mean_face = pca.mean_.reshape(img_height, img_width)\n",
        "norm_img = cv2.normalize(mean_face, None, 0, 255, cv2.NORM_MINMAX).astype(np.uint8)\n",
        "cv2.imwrite('./eigenfaces/mean_face.png', norm_img)\n",
        "print('Done.')\n",
        "\n",
        "# TODO: Visualize the first few eigenfaces, and save them as './eigenfaces/eigenface_{i}.png'.\n",
        "# Don't forget to normalize the image like the the mean face example above.\n",
        "print('Saving first ten eigen-faces to ./outputs/...', end='')\n",
        "eigenfaces = pca.components_.reshape(num_components, img_height, img_width)[:10]\n",
        "# --> Your code here <--\n",
        "\n",
        "# Display the mean face and eigenfaces. You can also browse these by\n",
        "# navigating through the notebooks file system (see left side toolbar)!\n",
        "print('Mean Face')\n",
        "display(Image('./eigenfaces/mean_face.png'))\n",
        "\n",
        "print('Eigenfaces')\n",
        "for i in range(10):\n",
        "  display(Image(f'./eigenfaces/eigenface_{i}.png'))"
      ],
      "execution_count": null,
      "outputs": []
    },
    {
      "cell_type": "markdown",
      "metadata": {
        "id": "2icbJ4zLU-Gv"
      },
      "source": [
        "####3.3) Variance versus number of components"
      ]
    },
    {
      "cell_type": "code",
      "metadata": {
        "id": "MQ2xArSgVCiy"
      },
      "source": [
        "import matplotlib.pyplot as plt\n",
        "\n",
        "# Compute the cumulative sum of total variance as we increase the number of \n",
        "# principal components we use.\n",
        "n_components_to_plot = 300\n",
        "total_variance = sum(pca.eigenvalues_)\n",
        "var_exp = [(i / total_variance) * 100 for i in\n",
        "           sorted(pca.eigenvalues_, reverse=True)[:n_components_to_plot]]\n",
        "cum_var_exp = np.cumsum(var_exp)\n",
        "\n",
        "# Generate the plot.\n",
        "plt.step(range(1, n_components_to_plot + 1), cum_var_exp)\n",
        "plt.title('Fraction of Total Variance versus Number of Components')\n",
        "plt.ylabel('Fraction of Total Variance')\n",
        "plt.xlabel('Number of Components')\n",
        "plt.show()"
      ],
      "execution_count": null,
      "outputs": []
    },
    {
      "cell_type": "markdown",
      "metadata": {
        "id": "SBUEyUvEbMDv"
      },
      "source": [
        "### 4) Face Recognition\n",
        "\n",
        "In this section, we're going to build a simple face recognition system using eigenfaces. To accomplish this, we're going to take a test image and project it onto our principal components learned from our training set of celebrity faces. Finally, we will compare the resulting vector to all of the other faces in the training set and find the closet match based on Euclidean distance (i.e., 1-nearest-neighbour classification).\n",
        "\n",
        "For instance, this training set has photos of Obama—in theory then, if we were to test another photo of Obama (not in the training set, cropped and aligned), we should find that the closest match in the training set will also be a photo of Obama."
      ]
    },
    {
      "cell_type": "markdown",
      "metadata": {
        "id": "0ooDIT9Mjlun"
      },
      "source": [
        "#### 4.1) Download the test image"
      ]
    },
    {
      "cell_type": "code",
      "metadata": {
        "id": "uePibenqdaxc"
      },
      "source": [
        "# Download a photo of Obama which isn't in the training set.\n",
        "!wget -O \"006357.jpg\" https://www.dropbox.com/s/ffw2621k0gmix1z/006357.jpg?dl=0\n",
        "display(Image('006357.jpg'))"
      ],
      "execution_count": null,
      "outputs": []
    },
    {
      "cell_type": "markdown",
      "metadata": {
        "id": "Xtl7rIVFkSBs"
      },
      "source": [
        "#### 4.2) Find the closet image in the training set to our test image"
      ]
    },
    {
      "cell_type": "code",
      "metadata": {
        "id": "IDhubLwVh2Vr"
      },
      "source": [
        "from numpy.linalg import norm\n",
        "\n",
        "# Load our test image into a NumPy matrix\n",
        "test_img = center_crop(cv2.imread('006357.jpg', cv2.IMREAD_GRAYSCALE))\n",
        "test_img = np.expand_dims(test_img.flatten(), axis=0)\n",
        "\n",
        "# TODO: Transform our training matrix and test image using our PCA implementation\n",
        "# from earlier.\n",
        "# --> Your code here <--\n",
        "\n",
        "# TODO: For our face recognition classifier, we will use a 1-nearest-neighbour\n",
        "# model. The classifier should return the index of the best matching image.\n",
        "# --> Your code here <--\n",
        "best_match_index = None\n",
        "\n",
        "# If all goes well, the best match in our training set should be another\n",
        "# photo of Obama.\n",
        "print('Best match:', image_paths[best_match_index])\n",
        "display(Image(image_paths[best_match_index]))"
      ],
      "execution_count": null,
      "outputs": []
    },
    {
      "cell_type": "markdown",
      "metadata": {
        "id": "wI-l4LsDlApo"
      },
      "source": [
        "## This section is reserved for theoretical questions  (lecturers will provide these questions in late summer)\n"
      ]
    },
    {
      "cell_type": "markdown",
      "metadata": {
        "id": "GgsjIS4UQOmo"
      },
      "source": [
        "This assignment will be given after some advanced lectures. We can check bootcampee's understanding of the new concepts by theoretical questions, and these questions can also be a good review for Some of the example questions"
      ]
    },
    {
      "cell_type": "markdown",
      "metadata": {
        "id": "kqnBKShFYoyi"
      },
      "source": [
        "#### Explain the difference between overfitting and underfitting"
      ]
    },
    {
      "cell_type": "markdown",
      "metadata": {
        "id": "xAL6YipoY3Z6"
      },
      "source": [
        "\\########## YOUR ANSWER HERE ##########"
      ]
    },
    {
      "cell_type": "markdown",
      "metadata": {
        "id": "RLjJzzScptMy"
      },
      "source": [
        "####Explain bagging and boosting. Clearly illustrate the difference between these methods. (less than 4 sentances)"
      ]
    },
    {
      "cell_type": "markdown",
      "metadata": {
        "id": "H-niBo1Xp5gj"
      },
      "source": [
        "\\########## YOUR ANSWER HERE ##########"
      ]
    },
    {
      "cell_type": "markdown",
      "metadata": {
        "id": "o_hvDm8soNxF"
      },
      "source": [
        "#### What is a DECISION TREE (less than 3 sentances)? What are the advantages and disadvantages of a decision tree?\n",
        "\n"
      ]
    },
    {
      "cell_type": "markdown",
      "metadata": {
        "id": "P0oe_sGmot_X"
      },
      "source": [
        "\\########## YOUR ANSWER HERE ##########\n"
      ]
    },
    {
      "cell_type": "markdown",
      "metadata": {
        "id": "7gEd8pKTo8wy"
      },
      "source": [
        "#### What is a RANDOM FOREST (less than 3 sentances)? What are the advantages and disadvantages of a random forest compared to a decision tree?\n",
        "\n",
        "\n"
      ]
    },
    {
      "cell_type": "markdown",
      "metadata": {
        "id": "7istrQunpX-l"
      },
      "source": [
        "\\########## YOUR ANSWER HERE ##########"
      ]
    }
  ]
}